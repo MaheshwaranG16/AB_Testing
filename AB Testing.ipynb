{
 "cells": [
  {
   "cell_type": "markdown",
   "metadata": {},
   "source": [
    "# **A/B Testing**"
   ]
  },
  {
   "cell_type": "markdown",
   "metadata": {},
   "source": [
    "## **What is A/B Testing?**\n",
    "The purpose of A/B testing is to compare different content and design samples in pairs. However, this purpose may differ depending on the system in which we perform the test. In addition to being used mostly on applications, websites and advertisements, it is a test that can be applied in almost all decisions that can be taken thanks to the digital competencies we have. AB Testing outputs help us make accurate predictions. In summary, it can be said that they are experiments in which only one of more than one variable is changed and which variant performs better under equal conditions."
   ]
  },
  {
   "cell_type": "markdown",
   "metadata": {},
   "source": [
    "## **How to Do A/B Testing?**\n",
    "First of all, a decision should be made about which variable A B test will be performed on. To go through a common example in digital marketing, let's talk about an experiment to be done on the CTA (Call-to-Action) text of an ad image. Let's assume that the current advertisement image says \"Make an Appointment Now\", and if we are wondering how it will perform, \"Call Now\". In the final stage, these two alternative texts should be evaluated under equal conditions.\n",
    "\n",
    "When doing A/B testing, there are some factors that you need to pay attention to in order to be able to do it in the most effective way.\n",
    "\n",
    "**Period**: Both versions should be tested at the same time. If version A is tested in September and version B is tested in November, we won't know if the results are different because of timing and not because of different elements.\n",
    "\n",
    "**Randomness**: Test groups should be randomly and equally divided so that the results are unbiased.\n",
    "\n",
    "**Time**: If the test is only done for a short time, the results may not be enough to make a decision.\n",
    "\n",
    "The correct test method must be selected. statistical hypotheses must be properly established and tested.\n",
    "\n",
    "An example hypothesis to be established for the problem might be as follows:\n",
    "\n",
    "- H0: There is no statistically significant difference between the conversion rate value of the old system and the conversion rate value of the new system.\n",
    "\n",
    "- H1: There is a statistically significant difference between the conversion rate value of the old system and the conversion rate value of the new system."
   ]
  },
  {
   "cell_type": "markdown",
   "metadata": {},
   "source": [
    "## **Steps for the A/B Test**\n",
    "Prepare the Data: Ensure your dataset is clean and separated by old_page and new_page.\n",
    "\n",
    "**Choose a Metric**: \n",
    "\n",
    "Decide which metric (Clicks, Purchases, Earnings, etc.) you will test.\n",
    "\n",
    "**Set up Hypotheses**: \n",
    "\n",
    "Based on the metric you choose:\n",
    "\n",
    "- H0: There is no difference in [Clicks/Purchases/Earnings] between the old_page and the new_page.\n",
    "\n",
    "- H1: There is a significant difference in [Clicks/Purchases/Earnings] between the old_page and the new_page.\n",
    "\n",
    "**Check for Normality**:\n",
    "\n",
    "Apply the Shapiro-Wilk test (shapiro()) to check if your data follows a normal distribution.\n",
    "\n",
    "**Test for Variance**:\n",
    "Use Levene's Test (levene()) to check if the variances between the two groups are equal.\n",
    "\n",
    "**Select a Statistical Test**:\n",
    "- **Parametric Test**: If the data is normally distributed and the variances are equal, use a t-test (ttest_ind()).\n",
    "\n",
    "- **Non-Parametric Test**: If the data does not follow a normal distribution, use a non-parametric test like the Mann-Whitney U test (mannwhitneyu()).\n",
    "\n",
    "**Interpret the Results:**\n",
    "\n",
    "Based on the p-value, determine if you can reject the null hypothesis.\n",
    "- If p-value < 0.05, reject H0 (there is a statistically significant difference).\n",
    "\n",
    "- If p-value > 0.05, fail to reject H0 (no significant difference)."
   ]
  },
  {
   "cell_type": "code",
   "execution_count": 1,
   "metadata": {},
   "outputs": [],
   "source": [
    "import numpy as np\n",
    "import pandas as pd\n",
    "from scipy.stats import shapiro, levene, ttest_ind, mannwhitneyu\n",
    "from statsmodels.stats.proportion import proportions_ztest"
   ]
  },
  {
   "cell_type": "markdown",
   "metadata": {},
   "source": [
    "Let's read the dataset. In order to test, we will need two groups, the Control Group and the Test Group.\n",
    "\n",
    "**CONTROL GROUP**: We can read the data set of the control group as follows."
   ]
  },
  {
   "cell_type": "code",
   "execution_count": 2,
   "metadata": {},
   "outputs": [
    {
     "data": {
      "text/html": [
       "<div>\n",
       "<style scoped>\n",
       "    .dataframe tbody tr th:only-of-type {\n",
       "        vertical-align: middle;\n",
       "    }\n",
       "\n",
       "    .dataframe tbody tr th {\n",
       "        vertical-align: top;\n",
       "    }\n",
       "\n",
       "    .dataframe thead th {\n",
       "        text-align: right;\n",
       "    }\n",
       "</style>\n",
       "<table border=\"1\" class=\"dataframe\">\n",
       "  <thead>\n",
       "    <tr style=\"text-align: right;\">\n",
       "      <th></th>\n",
       "      <th>Impression</th>\n",
       "      <th>Click</th>\n",
       "      <th>Purchase</th>\n",
       "      <th>Earning</th>\n",
       "    </tr>\n",
       "  </thead>\n",
       "  <tbody>\n",
       "    <tr>\n",
       "      <th>0</th>\n",
       "      <td>82529.459271</td>\n",
       "      <td>6090.077317</td>\n",
       "      <td>665.211255</td>\n",
       "      <td>2311.277143</td>\n",
       "    </tr>\n",
       "    <tr>\n",
       "      <th>1</th>\n",
       "      <td>98050.451926</td>\n",
       "      <td>3382.861786</td>\n",
       "      <td>315.084895</td>\n",
       "      <td>1742.806855</td>\n",
       "    </tr>\n",
       "    <tr>\n",
       "      <th>2</th>\n",
       "      <td>82696.023549</td>\n",
       "      <td>4167.965750</td>\n",
       "      <td>458.083738</td>\n",
       "      <td>1797.827447</td>\n",
       "    </tr>\n",
       "    <tr>\n",
       "      <th>3</th>\n",
       "      <td>109914.400398</td>\n",
       "      <td>4910.882240</td>\n",
       "      <td>487.090773</td>\n",
       "      <td>1696.229178</td>\n",
       "    </tr>\n",
       "    <tr>\n",
       "      <th>4</th>\n",
       "      <td>108457.762630</td>\n",
       "      <td>5987.655811</td>\n",
       "      <td>441.034050</td>\n",
       "      <td>1543.720179</td>\n",
       "    </tr>\n",
       "  </tbody>\n",
       "</table>\n",
       "</div>"
      ],
      "text/plain": [
       "      Impression        Click    Purchase      Earning\n",
       "0   82529.459271  6090.077317  665.211255  2311.277143\n",
       "1   98050.451926  3382.861786  315.084895  1742.806855\n",
       "2   82696.023549  4167.965750  458.083738  1797.827447\n",
       "3  109914.400398  4910.882240  487.090773  1696.229178\n",
       "4  108457.762630  5987.655811  441.034050  1543.720179"
      ]
     },
     "execution_count": 2,
     "metadata": {},
     "output_type": "execute_result"
    }
   ],
   "source": [
    "file_path = \"ab_testing.xlsx\"\n",
    "df_control = pd.read_excel(file_path,sheet_name= \"Control Group\")\n",
    "df_control.head()"
   ]
  },
  {
   "cell_type": "markdown",
   "metadata": {},
   "source": [
    "For a first impression of our control group dataset, we can take a quick look."
   ]
  },
  {
   "cell_type": "code",
   "execution_count": 3,
   "metadata": {},
   "outputs": [
    {
     "name": "stdout",
     "output_type": "stream",
     "text": [
      "<class 'pandas.core.frame.DataFrame'>\n",
      "RangeIndex: 40 entries, 0 to 39\n",
      "Data columns (total 4 columns):\n",
      " #   Column      Non-Null Count  Dtype  \n",
      "---  ------      --------------  -----  \n",
      " 0   Impression  40 non-null     float64\n",
      " 1   Click       40 non-null     float64\n",
      " 2   Purchase    40 non-null     float64\n",
      " 3   Earning     40 non-null     float64\n",
      "dtypes: float64(4)\n",
      "memory usage: 1.4 KB\n"
     ]
    }
   ],
   "source": [
    "df_control.info()"
   ]
  },
  {
   "cell_type": "markdown",
   "metadata": {},
   "source": [
    "**TEST GROUP**: After the control group, we read the data set of the test group as follows."
   ]
  },
  {
   "cell_type": "code",
   "execution_count": 4,
   "metadata": {},
   "outputs": [
    {
     "data": {
      "text/html": [
       "<div>\n",
       "<style scoped>\n",
       "    .dataframe tbody tr th:only-of-type {\n",
       "        vertical-align: middle;\n",
       "    }\n",
       "\n",
       "    .dataframe tbody tr th {\n",
       "        vertical-align: top;\n",
       "    }\n",
       "\n",
       "    .dataframe thead th {\n",
       "        text-align: right;\n",
       "    }\n",
       "</style>\n",
       "<table border=\"1\" class=\"dataframe\">\n",
       "  <thead>\n",
       "    <tr style=\"text-align: right;\">\n",
       "      <th></th>\n",
       "      <th>Impression</th>\n",
       "      <th>Click</th>\n",
       "      <th>Purchase</th>\n",
       "      <th>Earning</th>\n",
       "    </tr>\n",
       "  </thead>\n",
       "  <tbody>\n",
       "    <tr>\n",
       "      <th>0</th>\n",
       "      <td>120103.503796</td>\n",
       "      <td>3216.547958</td>\n",
       "      <td>702.160346</td>\n",
       "      <td>1939.611243</td>\n",
       "    </tr>\n",
       "    <tr>\n",
       "      <th>1</th>\n",
       "      <td>134775.943363</td>\n",
       "      <td>3635.082422</td>\n",
       "      <td>834.054286</td>\n",
       "      <td>2929.405820</td>\n",
       "    </tr>\n",
       "    <tr>\n",
       "      <th>2</th>\n",
       "      <td>107806.620788</td>\n",
       "      <td>3057.143560</td>\n",
       "      <td>422.934258</td>\n",
       "      <td>2526.244877</td>\n",
       "    </tr>\n",
       "    <tr>\n",
       "      <th>3</th>\n",
       "      <td>116445.275526</td>\n",
       "      <td>4650.473911</td>\n",
       "      <td>429.033535</td>\n",
       "      <td>2281.428574</td>\n",
       "    </tr>\n",
       "    <tr>\n",
       "      <th>4</th>\n",
       "      <td>145082.516838</td>\n",
       "      <td>5201.387724</td>\n",
       "      <td>749.860442</td>\n",
       "      <td>2781.697521</td>\n",
       "    </tr>\n",
       "  </tbody>\n",
       "</table>\n",
       "</div>"
      ],
      "text/plain": [
       "      Impression        Click    Purchase      Earning\n",
       "0  120103.503796  3216.547958  702.160346  1939.611243\n",
       "1  134775.943363  3635.082422  834.054286  2929.405820\n",
       "2  107806.620788  3057.143560  422.934258  2526.244877\n",
       "3  116445.275526  4650.473911  429.033535  2281.428574\n",
       "4  145082.516838  5201.387724  749.860442  2781.697521"
      ]
     },
     "execution_count": 4,
     "metadata": {},
     "output_type": "execute_result"
    }
   ],
   "source": [
    "df_test = pd.read_excel(file_path,sheet_name= \"Test Group\")\n",
    "df_test.head()"
   ]
  },
  {
   "cell_type": "code",
   "execution_count": 5,
   "metadata": {},
   "outputs": [
    {
     "name": "stdout",
     "output_type": "stream",
     "text": [
      "<class 'pandas.core.frame.DataFrame'>\n",
      "RangeIndex: 40 entries, 0 to 39\n",
      "Data columns (total 4 columns):\n",
      " #   Column      Non-Null Count  Dtype  \n",
      "---  ------      --------------  -----  \n",
      " 0   Impression  40 non-null     float64\n",
      " 1   Click       40 non-null     float64\n",
      " 2   Purchase    40 non-null     float64\n",
      " 3   Earning     40 non-null     float64\n",
      "dtypes: float64(4)\n",
      "memory usage: 1.4 KB\n"
     ]
    }
   ],
   "source": [
    "df_test.info()"
   ]
  },
  {
   "cell_type": "markdown",
   "metadata": {},
   "source": [
    "## **Formulating a Hypothesis**\n",
    "1. Assumption is Normality\n",
    "\n",
    "2. Assumption is Variance Homogenity\n",
    "\n",
    "- If assumptions are provided then two independent sample t-tests (parametric testing) will be applied\n",
    "\n",
    "- If assumptions are not provided than Mannwhitneyu test (non-parametric test) will be applied\n",
    "\n",
    "Therefore, we should first look at the assumption of normality.\n",
    "\n",
    "We will perform hypothesis testing. It is necessary to interpret whether the results are statistically significant. Normality assumption check is considered as the first step of this test.\n",
    "\n",
    "## **Normality Assumption**\n",
    "It is possible to use various normality tests in order to reveal whether the data are suitable for normal distribution. The most well-known of these tests are Chi-Square, Kolmogorow-Smirnov, Lilliefors and Shapiro-Wilk normality tests. Among these, we will use the SHAPIRO WILK-W test.\n",
    "\n",
    "### **Shapiro Wilk-W Test**\n",
    "Shapiro-Wilk and Kolmogorov-Smirnov are the most commonly used tests for the normal distribution test, and their hypotheses are basically the same. In contrast to other comparison tests the Shapiro-Wilk test is only applicable to check for normality.\n",
    "\n",
    "- **H0**: The variable has a normal distribution. p-value > 0.05\n",
    "\n",
    "- **H1**: The variable does not have a normal distribution. p-value < 0.05\n",
    "\n",
    "The null-hypothesis of this test is that the population is normally distributed. Thus, if the p value is less than the chosen alpha level, then the null hypothesis is rejected and there is evidence that the data tested are not normally distributed. On the other hand, if the p value is greater than the chosen alpha level, then the null hypothesis can not be rejected.\n",
    "\n",
    "- **H0**: Normal distribution assumption is provided.\n",
    "\n",
    "- **H1**: Normal distribution assumption is not provided."
   ]
  },
  {
   "cell_type": "code",
   "execution_count": 6,
   "metadata": {},
   "outputs": [
    {
     "data": {
      "text/plain": [
       "np.float64(550.8940587702316)"
      ]
     },
     "execution_count": 6,
     "metadata": {},
     "output_type": "execute_result"
    }
   ],
   "source": [
    "df_control['Purchase'].mean()"
   ]
  },
  {
   "cell_type": "code",
   "execution_count": 7,
   "metadata": {},
   "outputs": [
    {
     "data": {
      "text/plain": [
       "np.float64(582.1060966484677)"
      ]
     },
     "execution_count": 7,
     "metadata": {},
     "output_type": "execute_result"
    }
   ],
   "source": [
    "df_test['Purchase'].mean()"
   ]
  },
  {
   "cell_type": "code",
   "execution_count": 8,
   "metadata": {},
   "outputs": [
    {
     "name": "stdout",
     "output_type": "stream",
     "text": [
      "Test Stat = 0.9773, p-value = 0.5891\n",
      "Test Stat = 0.9589, p-value = 0.1541\n"
     ]
    }
   ],
   "source": [
    "test_stat, pvalue = shapiro(df_control[\"Purchase\"])\n",
    "print('Test Stat = %.4f, p-value = %.4f' % (test_stat, pvalue))\n",
    "\n",
    "test_stat, pvalue = shapiro(df_test[\"Purchase\"])\n",
    "print('Test Stat = %.4f, p-value = %.4f' % (test_stat, pvalue))"
   ]
  },
  {
   "cell_type": "markdown",
   "metadata": {},
   "source": [
    "**H0 cannot be rejected** for each group because *p-value = 0.1541 and 0.5891 > 0.05*, so that is, the normal distribution assumption of is provided.\n",
    "\n",
    "Now that the variance of normality is satisfied, we should be able to control the homogeneity of the variance."
   ]
  },
  {
   "cell_type": "markdown",
   "metadata": {},
   "source": [
    "## **Variance Homogenity Assumption**\n",
    "### **Levene's Test**\n",
    "- **H0**: Variances are Homogeneous.\n",
    "\n",
    "- **H1**: Variances are not Homogeneous.\n",
    "\n",
    "Levene's test is used to test the homogeneity of group variances. It is run when groups are two or more. In other words, it is used in independent groups t test and Anova test. It is not used in the t test in dependent groups where the number of groups is odd. The sig (p) value found as a result of the Levene test is checked. If this value is greater than 0.05, we say that there is no difference. There is no difference between the groups. So we say the variances are equal (homogeneous). In this case, the values ​​in the first row (t value, p value) are taken into account. If equality of variances is not achieved, the values ​​in the second row (t value, p value) are taken into account. For example: p of the Levene test Let the value be 0.949. Since this value is greater than 0.05, we say that the variances are equal (Equal variances assumed). And in the rest of the first line, we look at the values. Let the p value of the sample t test be found to be 0.123. If this value is less than/equal to p=0.05, the hypothesis is confirmed. Otherwise, it will not be validated. The equation in our example was: 0.123>0.05. In this case, our hypothesis was not confirmed. H0 accepted, H1 rejected."
   ]
  },
  {
   "cell_type": "code",
   "execution_count": 9,
   "metadata": {},
   "outputs": [
    {
     "name": "stdout",
     "output_type": "stream",
     "text": [
      "Test Stat = 2.6393, p-value = 0.1083\n"
     ]
    }
   ],
   "source": [
    "test_stat, pvalue = levene(df_control['Purchase'],\n",
    "                           df_test['Purchase'])\n",
    "print('Test Stat = %.4f, p-value = %.4f' % (test_stat, pvalue))"
   ]
  },
  {
   "cell_type": "markdown",
   "metadata": {},
   "source": [
    "**H0 cannot be rejected** because *p-value = 0.1083 > 0.05*, so that is, homogeneous variance distribution is provided.\n",
    "\n",
    "We can apply Two Independent Sample T-Tests which is categorized as parametric test, since the assumptions are satisfied."
   ]
  },
  {
   "cell_type": "markdown",
   "metadata": {},
   "source": [
    "## **Independent Samples T Test**\n",
    "The independent sample t-test is used to test whether there is a statistically significant difference between two independent groups by looking at the means. This test is a parametric test and some assumptions (pre-requisites) must be fulfilled in order to report the results of the test.\n",
    "\n",
    "We checked these necessary conditions in the previous step. Again, the dependent variable in each group should be normally distributed (Normality). Variances should be homogeneous. (Homogeneity)\n",
    "\n",
    "Apart from these two conditions, the following conditions must also be met:\n",
    "\n",
    "- The dependent variable must be continuous.\n",
    "\n",
    "- The argument must be categorical.\n",
    "\n",
    "- The dataset should not contain outliers.\n",
    "\n",
    "**Note**: The Independent Samples t Test can only compare the means for two (and only two) groups. It cannot make comparisons among more than two groups. If you wish to compare the means across more than two groups, you will likely want to run an ANOVA."
   ]
  },
  {
   "cell_type": "code",
   "execution_count": 10,
   "metadata": {},
   "outputs": [
    {
     "name": "stdout",
     "output_type": "stream",
     "text": [
      "Test Stat = -0.9416, p-value = 0.3493\n"
     ]
    }
   ],
   "source": [
    "test_stat, pvalue = ttest_ind(df_control[\"Purchase\"],\n",
    "                              df_test[\"Purchase\"],\n",
    "                              equal_var=True)\n",
    "\n",
    "print('Test Stat = %.4f, p-value = %.4f' % (test_stat, pvalue))"
   ]
  },
  {
   "cell_type": "markdown",
   "metadata": {},
   "source": [
    "**H0 cannot be rejected** because *p-value = 0.3493 > 0.05* . In other words, there is no statistically significant difference between the purchase averages of the control and test groups. There is no significant difference between maximum bidding and average bidding."
   ]
  },
  {
   "cell_type": "markdown",
   "metadata": {},
   "source": [
    "## **Mann–Whitney U test**\n",
    "It is a non-parametric method used to compare the means of two independent groups in a distribution that does not show normal distribution. Since this test is a non-parametric test, no assumptions are necessary regarding the distribution of the scores obtained.\n",
    "\n",
    "A few necessary prerequisites for this test can be listed as follows:\n",
    "\n",
    "- The independent variable must be categorical.\n",
    "\n",
    "- The dependent variable must be continuous or sequential.\n",
    "\n",
    "- The sample selected from the population should be random.\n",
    "\n",
    "- The scores obtained from the groups should not show normal distribution.\n",
    "\n",
    "\n",
    "## **Functionalization of A/B Test**"
   ]
  },
  {
   "cell_type": "code",
   "execution_count": 11,
   "metadata": {},
   "outputs": [],
   "source": [
    "def hypothesis_checker(df_A, df_B, col_name):\n",
    "    \n",
    "    test_stat_A, pvalue_A = shapiro(df_A[col_name])\n",
    "    test_stat_B, pvalue_B = shapiro(df_B[col_name])\n",
    "    test_stat_var, pvalue_var = levene(df_A[col_name], df_B[col_name])\n",
    "    \n",
    "    print('*Normalization Check:')\n",
    "    print('Shapiro Test for Control Group, Stat = %.4f, p-value = %.4f' % (test_stat_A, pvalue_A))\n",
    "    print('Shapiro Test for Test Group, Stat = %.4f, p-value = %.4f' % (test_stat_B, pvalue_B))\n",
    "    \n",
    "    print('*Variance Check:')\n",
    "    print('Levene Test Stat = %.4f, p-value = %.4f' % (test_stat_var, pvalue_var))\n",
    "    \n",
    "    if pvalue_A < 0.05 and pvalue_B < 0.05:\n",
    "        test_stat, pvalue = mannwhitneyu(df_A[col_name], df_B[col_name])\n",
    "\n",
    "        print(\" \")\n",
    "        print('Mann–Whitney U Test Stat = %.4f, p-value = %.4f' % (test_stat, pvalue))\n",
    "        print(f'H0 hypothesis {\"NOT REJECTED\" if pvalue > 0.05 else \"REJECTED\"} in Mann–Whitney U Test')\n",
    "        \n",
    "    else:\n",
    "        test_stat, pvalue = ttest_ind(df_A[col_name], df_B[col_name], equal_var=(True if pvalue_var > 0.05 else False))\n",
    "\n",
    "        print(\" \")\n",
    "        print('Independent Samples T Test Stat = %.4f, p-value = %.4f' % (test_stat, pvalue))\n",
    "        print(f'H0 hypothesis {\"NOT REJECTED\" if pvalue > 0.05 else \"REJECTED\"}, Independent Samples T Test')"
   ]
  },
  {
   "cell_type": "code",
   "execution_count": 12,
   "metadata": {},
   "outputs": [
    {
     "name": "stdout",
     "output_type": "stream",
     "text": [
      "*Normalization Check:\n",
      "Shapiro Test for Control Group, Stat = 0.9756, p-value = 0.5306\n",
      "Shapiro Test for Test Group, Stat = 0.9780, p-value = 0.6163\n",
      "*Variance Check:\n",
      "Levene Test Stat = 0.3532, p-value = 0.5540\n",
      " \n",
      "Independent Samples T Test Stat = -9.2545, p-value = 0.0000\n",
      "H0 hypothesis REJECTED, Independent Samples T Test\n"
     ]
    }
   ],
   "source": [
    "hypothesis_checker(df_control, df_test, 'Earning')"
   ]
  },
  {
   "cell_type": "markdown",
   "metadata": {},
   "source": [
    "The normality is provided beacuse *p-value = 0.5306 and 0.6163 > 0.05* that is, **H0 can not rejected**. The variance homogenity is provided beacuse *p-value = 0.5540 > 0.05* that is, **H0 can not rejected**. Due to the normality and variance homogenity assumptions are provided, we should perform Independent Samples T Test (parametric test).\n",
    "\n",
    "As a result of Independent Samples T Test, there is a statistically significant difference between them because *p-value = 0.0000 < 0.05* so **H0 is rejected**. Considering the gain in the test group, the test group earns more. That's why we should choose average bidding."
   ]
  },
  {
   "cell_type": "code",
   "execution_count": 13,
   "metadata": {},
   "outputs": [
    {
     "name": "stdout",
     "output_type": "stream",
     "text": [
      "control_mean 1908.568299802749\n",
      "test_mean 2514.8907326506173\n"
     ]
    }
   ],
   "source": [
    "print('control_mean', df_control['Earning'].mean())\n",
    "print('test_mean', df_test['Earning'].mean())"
   ]
  },
  {
   "cell_type": "markdown",
   "metadata": {},
   "source": [
    "## **Another Aspect - Conversion of Impression to Click**\n",
    "\n",
    "### **Two Proportion Z-Test**\n",
    "\n",
    "The Two-Proportions Z-Test is used to compare two ratios.\n",
    "\n",
    "Let's assume we have 2 groups of individuals: + Group 1, individuals with skin cancer: n = 100 + Group 2, healthy individuals: n = 100\n",
    "\n",
    "Number of smokers in each group:\n",
    "\n",
    "490 individuals from group 1 male: 98/100 = 98%\n",
    "\n",
    "400 individuals from group 2 male: 80/100 = 80% In total:\n",
    "\n",
    "Percentage of male: 89%\n",
    "\n",
    "Percentage of female: 11%\n",
    "\n",
    "What we want to investigate is whether the proportion of gender in the two groups is the same.\n",
    "\n",
    "H0: μ1 = μ2 (the two population proportions are equal) The alternative hypothesis can be either two-tailed, left-tailed, or right-tailed"
   ]
  },
  {
   "cell_type": "markdown",
   "metadata": {},
   "source": [
    "**H0 : There is a statistically significant difference between the click rate averages of control and test groups.**\n",
    "\n",
    "**H1 : There is no statistically significant difference between the click rate averages of control and test groups.**"
   ]
  },
  {
   "cell_type": "code",
   "execution_count": 14,
   "metadata": {},
   "outputs": [
    {
     "name": "stdout",
     "output_type": "stream",
     "text": [
      "0.05014831092596444\n"
     ]
    }
   ],
   "source": [
    "click_a = df_control[\"Click\"].sum()\n",
    "impression_a = df_control[\"Impression\"].sum()\n",
    "print(click_a/impression_a)"
   ]
  },
  {
   "cell_type": "code",
   "execution_count": 15,
   "metadata": {},
   "outputs": [
    {
     "name": "stdout",
     "output_type": "stream",
     "text": [
      "0.032922333085396625\n"
     ]
    }
   ],
   "source": [
    "click_b = df_test[\"Click\"].sum()\n",
    "impression_b = df_test[\"Impression\"].sum()\n",
    "print(click_b/impression_b)"
   ]
  },
  {
   "cell_type": "code",
   "execution_count": 16,
   "metadata": {},
   "outputs": [],
   "source": [
    "nclicks = np.array([click_a,click_b])\n",
    "\n",
    "nad_views = np.array([impression_a,impression_b])"
   ]
  },
  {
   "cell_type": "code",
   "execution_count": 17,
   "metadata": {},
   "outputs": [
    {
     "data": {
      "text/plain": [
       "(np.float64(129.3304801715903), np.float64(0.0))"
      ]
     },
     "execution_count": 17,
     "metadata": {},
     "output_type": "execute_result"
    }
   ],
   "source": [
    "proportions_ztest(count=nclicks,nobs=nad_views)"
   ]
  },
  {
   "cell_type": "markdown",
   "metadata": {},
   "source": [
    "There is a statistically significant difference between them\n",
    "\n",
    "because *p-value = 0.0000 < 0.05* so **H0 is rejected**.\n",
    "\n",
    "Based on the current average click-through rates,\n",
    "\n",
    "- the maximum bidding 5 out of 100 people click on the ad, while\n",
    "\n",
    "- the ad the average bidding 3 out of 100 people click on.\n",
    "\n",
    "So, if the company wants to increase the click-through rate, it may prefer maximum bidding."
   ]
  },
  {
   "cell_type": "markdown",
   "metadata": {},
   "source": [
    "## **Conclusion**\n",
    "Running an A/B test that directly compares a variation to a current experience allows you to ask questions about changes to your website or app and then collect data on the impact of that change.\n",
    "\n",
    "Based on the assumptions in website optimization, the test allows to make analyzes about business processes that can be called \"we know\" instead of \"we think\". By measuring the impact of changes on your metrics, you can get an idea of the consequences of each change.\n",
    "\n",
    "To sum it up, let's review once again what you need to do the A/B test.\n",
    "\n",
    "- Basic data should be collected\n",
    "\n",
    "- Goals must be set\n",
    "\n",
    "- Establish an assumption (estimate how a particular element might perform better)\n",
    "\n",
    "- A variable must be created (a variable must be created to oppose the existing element based on the assumption)\n",
    "\n",
    "- Run the test (must take into account time, means, etc.) Be sure to test both versions (control and test) simultaneously to ensure validity of results\n",
    "\n",
    "- Analyze the results – review the results to make sure the desired effect is achieved. Then choose which version performs better."
   ]
  }
 ],
 "metadata": {
  "kernelspec": {
   "display_name": "Python 3",
   "language": "python",
   "name": "python3"
  },
  "language_info": {
   "codemirror_mode": {
    "name": "ipython",
    "version": 3
   },
   "file_extension": ".py",
   "mimetype": "text/x-python",
   "name": "python",
   "nbconvert_exporter": "python",
   "pygments_lexer": "ipython3",
   "version": "3.11.9"
  }
 },
 "nbformat": 4,
 "nbformat_minor": 2
}
